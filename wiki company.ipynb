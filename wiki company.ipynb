{
 "cells": [
  {
   "cell_type": "markdown",
   "id": "23ae1056",
   "metadata": {},
   "source": [
    "Imported all the required libraries"
   ]
  },
  {
   "cell_type": "code",
   "execution_count": 3,
   "id": "c9dc784d",
   "metadata": {},
   "outputs": [],
   "source": [
    "import requests\n",
    "import pandas as pd\n",
    "from bs4 import BeautifulSoup\n",
    "import numpy as np"
   ]
  },
  {
   "cell_type": "markdown",
   "id": "80a1dd53",
   "metadata": {},
   "source": [
    "request method to get connect with the link"
   ]
  },
  {
   "cell_type": "code",
   "execution_count": 4,
   "id": "19210b1a",
   "metadata": {},
   "outputs": [],
   "source": [
    "webpage = requests.get('https://en.wikipedia.org/wiki/List_of_companies_of_India')"
   ]
  },
  {
   "cell_type": "markdown",
   "id": "0f7f2c04",
   "metadata": {},
   "source": [
    "Response '200' shows the code has no error"
   ]
  },
  {
   "cell_type": "code",
   "execution_count": 5,
   "id": "1d5cc960",
   "metadata": {},
   "outputs": [
    {
     "data": {
      "text/plain": [
       "<Response [200]>"
      ]
     },
     "execution_count": 5,
     "metadata": {},
     "output_type": "execute_result"
    }
   ],
   "source": [
    "webpage"
   ]
  },
  {
   "cell_type": "markdown",
   "id": "f38107cc",
   "metadata": {},
   "source": [
    "Reading the content with soup method"
   ]
  },
  {
   "cell_type": "code",
   "execution_count": 6,
   "id": "79eba494",
   "metadata": {},
   "outputs": [],
   "source": [
    "soup = BeautifulSoup (webpage.text, 'html.parser')"
   ]
  },
  {
   "cell_type": "markdown",
   "id": "f9ecdcba",
   "metadata": {},
   "source": [
    "extracting the requied table"
   ]
  },
  {
   "cell_type": "code",
   "execution_count": 7,
   "id": "89287f8d",
   "metadata": {},
   "outputs": [],
   "source": [
    "table =soup.find_all('table', class_='wikitable sortable')"
   ]
  },
  {
   "cell_type": "code",
   "execution_count": 8,
   "id": "0177f933",
   "metadata": {},
   "outputs": [],
   "source": [
    "df=  pd.read_html(str(table))"
   ]
  },
  {
   "cell_type": "code",
   "execution_count": 9,
   "id": "8c56236b",
   "metadata": {},
   "outputs": [
    {
     "data": {
      "text/plain": [
       "[   Rank  Image                             Name 2019 Revenues (USD $M)  \\\n",
       " 0   106    NaN              Reliance Industries                $82,331   \n",
       " 1   117    NaN           Indian Oil Corporation                $77,587   \n",
       " 2   160    NaN  Oil and Natural Gas Corporation                $61,420   \n",
       " 3   236    NaN              State Bank of India                $47,286   \n",
       " 4   275    NaN                 Bharat Petroleum                $42,935   \n",
       " \n",
       "    Employees                                              Notes  \n",
       " 0     194056  Reliance Industries is a true conglomerate wit...  \n",
       " 1      35442  Indian Oil provides products and services all ...  \n",
       " 2      43743  State-owned crude oil and gas company, current...  \n",
       " 3     257252  The bank is a state-owned, multi-national fina...  \n",
       " 4      12865  Government controlled oil and gas company in M...  ,\n",
       "                               Name           Industry  \\\n",
       " 0                    Aban Offshore          Oil & gas   \n",
       " 1                     ABG Shipyard        Industrials   \n",
       " 2                        ABP Group  Consumer services   \n",
       " 3                      ACC Limited        Industrials   \n",
       " 4                     Action Group       Conglomerate   \n",
       " ..                             ...                ...   \n",
       " 399  Zee Entertainment Enterprises  Consumer services   \n",
       " 400                       Zee News  Consumer services   \n",
       " 401            Zensar Technologies         Technology   \n",
       " 402               Zoho Corporation         Technology   \n",
       " 403                         Zomato         Technology   \n",
       " \n",
       "                             Sector Headquarters Founded  \\\n",
       " 0         Exploration & production      Chennai    1986   \n",
       " 1                     Shipbuilding    Ahmedabad    1985   \n",
       " 2     Broadcasting & entertainment      Kolkata    1922   \n",
       " 3    Building materials & fixtures       Mumbai    1936   \n",
       " 4                                -    New Delhi    1972   \n",
       " ..                             ...          ...     ...   \n",
       " 399   Broadcasting & entertainment       Mumbai    1992   \n",
       " 400   Broadcasting & entertainment       Mumbai    1999   \n",
       " 401                       Software         Pune    1991   \n",
       " 402                       Software      Chennai    1996   \n",
       " 403                       Internet     Gurugram    2008   \n",
       " \n",
       "                                  Notes  \n",
       " 0                   Oil, petrochemical  \n",
       " 1                     Ship engineering  \n",
       " 2                          Media, news  \n",
       " 3                               Cement  \n",
       " 4    Apparel, chemicals, retail, steel  \n",
       " ..                                 ...  \n",
       " 399                        Broadcaster  \n",
       " 400                       News channel  \n",
       " 401           IT services and software  \n",
       " 402       Business management software  \n",
       " 403                             Search  \n",
       " \n",
       " [404 rows x 6 columns]]"
      ]
     },
     "execution_count": 9,
     "metadata": {},
     "output_type": "execute_result"
    }
   ],
   "source": [
    "df"
   ]
  },
  {
   "cell_type": "code",
   "execution_count": 10,
   "id": "c047860b",
   "metadata": {},
   "outputs": [
    {
     "data": {
      "text/html": [
       "<div>\n",
       "<style scoped>\n",
       "    .dataframe tbody tr th:only-of-type {\n",
       "        vertical-align: middle;\n",
       "    }\n",
       "\n",
       "    .dataframe tbody tr th {\n",
       "        vertical-align: top;\n",
       "    }\n",
       "\n",
       "    .dataframe thead th {\n",
       "        text-align: right;\n",
       "    }\n",
       "</style>\n",
       "<table border=\"1\" class=\"dataframe\">\n",
       "  <thead>\n",
       "    <tr style=\"text-align: right;\">\n",
       "      <th></th>\n",
       "      <th>Rank</th>\n",
       "      <th>Image</th>\n",
       "      <th>Name</th>\n",
       "      <th>2019 Revenues (USD $M)</th>\n",
       "      <th>Employees</th>\n",
       "      <th>Notes</th>\n",
       "    </tr>\n",
       "  </thead>\n",
       "  <tbody>\n",
       "    <tr>\n",
       "      <th>0</th>\n",
       "      <td>106</td>\n",
       "      <td>NaN</td>\n",
       "      <td>Reliance Industries</td>\n",
       "      <td>$82,331</td>\n",
       "      <td>194056</td>\n",
       "      <td>Reliance Industries is a true conglomerate wit...</td>\n",
       "    </tr>\n",
       "    <tr>\n",
       "      <th>1</th>\n",
       "      <td>117</td>\n",
       "      <td>NaN</td>\n",
       "      <td>Indian Oil Corporation</td>\n",
       "      <td>$77,587</td>\n",
       "      <td>35442</td>\n",
       "      <td>Indian Oil provides products and services all ...</td>\n",
       "    </tr>\n",
       "    <tr>\n",
       "      <th>2</th>\n",
       "      <td>160</td>\n",
       "      <td>NaN</td>\n",
       "      <td>Oil and Natural Gas Corporation</td>\n",
       "      <td>$61,420</td>\n",
       "      <td>43743</td>\n",
       "      <td>State-owned crude oil and gas company, current...</td>\n",
       "    </tr>\n",
       "    <tr>\n",
       "      <th>3</th>\n",
       "      <td>236</td>\n",
       "      <td>NaN</td>\n",
       "      <td>State Bank of India</td>\n",
       "      <td>$47,286</td>\n",
       "      <td>257252</td>\n",
       "      <td>The bank is a state-owned, multi-national fina...</td>\n",
       "    </tr>\n",
       "    <tr>\n",
       "      <th>4</th>\n",
       "      <td>275</td>\n",
       "      <td>NaN</td>\n",
       "      <td>Bharat Petroleum</td>\n",
       "      <td>$42,935</td>\n",
       "      <td>12865</td>\n",
       "      <td>Government controlled oil and gas company in M...</td>\n",
       "    </tr>\n",
       "  </tbody>\n",
       "</table>\n",
       "</div>"
      ],
      "text/plain": [
       "   Rank  Image                             Name 2019 Revenues (USD $M)  \\\n",
       "0   106    NaN              Reliance Industries                $82,331   \n",
       "1   117    NaN           Indian Oil Corporation                $77,587   \n",
       "2   160    NaN  Oil and Natural Gas Corporation                $61,420   \n",
       "3   236    NaN              State Bank of India                $47,286   \n",
       "4   275    NaN                 Bharat Petroleum                $42,935   \n",
       "\n",
       "   Employees                                              Notes  \n",
       "0     194056  Reliance Industries is a true conglomerate wit...  \n",
       "1      35442  Indian Oil provides products and services all ...  \n",
       "2      43743  State-owned crude oil and gas company, current...  \n",
       "3     257252  The bank is a state-owned, multi-national fina...  \n",
       "4      12865  Government controlled oil and gas company in M...  "
      ]
     },
     "execution_count": 10,
     "metadata": {},
     "output_type": "execute_result"
    }
   ],
   "source": [
    "df[0]"
   ]
  },
  {
   "cell_type": "code",
   "execution_count": 11,
   "id": "ebaaef35",
   "metadata": {},
   "outputs": [],
   "source": [
    "big_company = df[0]"
   ]
  },
  {
   "cell_type": "code",
   "execution_count": 12,
   "id": "d0434369",
   "metadata": {},
   "outputs": [],
   "source": [
    "company = df[1]"
   ]
  },
  {
   "cell_type": "code",
   "execution_count": 13,
   "id": "296c490d",
   "metadata": {},
   "outputs": [],
   "source": [
    "company.to_csv('company_wiki.csv')"
   ]
  },
  {
   "cell_type": "code",
   "execution_count": 14,
   "id": "cde7d665",
   "metadata": {},
   "outputs": [],
   "source": [
    "big_company.to_excel('Big_company_wiki.xlsx', sheet_name = 'Big Companies in India')"
   ]
  }
 ],
 "metadata": {
  "kernelspec": {
   "display_name": "Python 3 (ipykernel)",
   "language": "python",
   "name": "python3"
  },
  "language_info": {
   "codemirror_mode": {
    "name": "ipython",
    "version": 3
   },
   "file_extension": ".py",
   "mimetype": "text/x-python",
   "name": "python",
   "nbconvert_exporter": "python",
   "pygments_lexer": "ipython3",
   "version": "3.9.12"
  }
 },
 "nbformat": 4,
 "nbformat_minor": 5
}
